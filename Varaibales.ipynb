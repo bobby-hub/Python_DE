{
 "cells": [
  {
   "cell_type": "code",
   "execution_count": 2,
   "id": "81f59254",
   "metadata": {},
   "outputs": [],
   "source": [
    "my_dogs = 2"
   ]
  },
  {
   "cell_type": "code",
   "execution_count": 4,
   "id": "a18151ef",
   "metadata": {},
   "outputs": [
    {
     "data": {
      "text/plain": [
       "2"
      ]
     },
     "execution_count": 4,
     "metadata": {},
     "output_type": "execute_result"
    }
   ],
   "source": [
    "my_dogs"
   ]
  },
  {
   "cell_type": "code",
   "execution_count": 11,
   "id": "9232fcd2",
   "metadata": {},
   "outputs": [],
   "source": [
    "my_dogs = ['Lex','Jul']"
   ]
  },
  {
   "cell_type": "code",
   "execution_count": 12,
   "id": "6d1a4d09",
   "metadata": {},
   "outputs": [
    {
     "data": {
      "text/plain": [
       "['Lex', 'Jul']"
      ]
     },
     "execution_count": 12,
     "metadata": {},
     "output_type": "execute_result"
    }
   ],
   "source": [
    "my_dogs"
   ]
  }
 ],
 "metadata": {
  "kernelspec": {
   "display_name": "Python 3 (ipykernel)",
   "language": "python",
   "name": "python3"
  },
  "language_info": {
   "codemirror_mode": {
    "name": "ipython",
    "version": 3
   },
   "file_extension": ".py",
   "mimetype": "text/x-python",
   "name": "python",
   "nbconvert_exporter": "python",
   "pygments_lexer": "ipython3",
   "version": "3.11.5"
  }
 },
 "nbformat": 4,
 "nbformat_minor": 5
}
